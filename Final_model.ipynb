{
 "cells": [
  {
   "cell_type": "code",
   "execution_count": 1,
   "metadata": {},
   "outputs": [],
   "source": [
    "#7.3 Final Data Mining after Search for Patterns\n",
    "import pandas as pd\n",
    "hotel1=pd.read_csv(\"./hotel_final.csv\")"
   ]
  },
  {
   "cell_type": "code",
   "execution_count": 2,
   "metadata": {},
   "outputs": [],
   "source": [
    "#7.3.1 Adding some attributes\n",
    "hotel1 ['have_adults']=hotel1.apply(lambda x:0 if x.adults==0 else 1,axis=1)\n",
    "hotel1 ['have_children']=hotel1.apply(lambda x:0 if x.children==0 else 1,axis=1)     \n",
    "hotel1 ['have_babies']=hotel1.apply(lambda x:0 if x.babies==0 else 1,axis=1)\n",
    "hotel1 ['changes']=hotel1.apply(lambda x:0 if x.booking_changes==0 else 1,axis=1)\n",
    "hotel1 ['have_parking']=hotel1.apply(lambda x:0 if x.required_car_parking_spaces==0 else 1,axis=1)\n"
   ]
  },
  {
   "cell_type": "code",
   "execution_count": 3,
   "metadata": {},
   "outputs": [],
   "source": [
    "hotel1.to_csv('./hotel_final_S.csv')"
   ]
  },
  {
   "cell_type": "code",
   "execution_count": 4,
   "metadata": {},
   "outputs": [],
   "source": [
    "import findspark\n",
    "findspark.init('/home/ubuntu/spark-2.1.1-bin-hadoop2.7')\n",
    "import pyspark\n",
    "from pyspark.sql import SparkSession\n",
    "spark = SparkSession.builder.appName('tree_methods').getOrCreate()"
   ]
  },
  {
   "cell_type": "code",
   "execution_count": 5,
   "metadata": {},
   "outputs": [],
   "source": [
    "Hotel_final=spark.read.csv('./hotel_final_S.csv',inferSchema=True,header=True)"
   ]
  },
  {
   "cell_type": "code",
   "execution_count": 6,
   "metadata": {},
   "outputs": [
    {
     "name": "stdout",
     "output_type": "stream",
     "text": [
      "root\n",
      " |-- hotel: integer (nullable = true)\n",
      " |-- arrival_date_year: integer (nullable = true)\n",
      " |-- meal: integer (nullable = true)\n",
      " |-- market_segment: integer (nullable = true)\n",
      " |-- distribution_channel: integer (nullable = true)\n",
      " |-- deposit_type: integer (nullable = true)\n",
      " |-- customer_type: integer (nullable = true)\n",
      " |-- room_change: integer (nullable = true)\n",
      " |-- have_requests: integer (nullable = true)\n",
      " |-- have_adults: integer (nullable = true)\n",
      " |-- have_children: integer (nullable = true)\n",
      " |-- have_babies: integer (nullable = true)\n",
      " |-- changes: integer (nullable = true)\n",
      " |-- have_parking: integer (nullable = true)\n",
      "\n"
     ]
    }
   ],
   "source": [
    "#7.3.1 Deleting some attributes\n",
    "Hotel_final=Hotel_final.drop(\"days_in_waiting_list\")\n",
    "Hotel_final=Hotel_final.drop(\"required_car_parking_spaces\")\n",
    "Hotel_final=Hotel_final.drop(\"stays_in_week_nights\")\n",
    "Hotel_final=Hotel_final.drop(\"adults\")\n",
    "Hotel_final=Hotel_final.drop(\"children\")\n",
    "Hotel_final=Hotel_final.drop(\"babies\")\n",
    "Hotel_final=Hotel_final.drop(\"booking_changes\")\n",
    "Hotel_final=Hotel_final.drop(\"Unnamed: 0\")\n",
    "Hotel_final=Hotel_final.drop(\"Unnamed: 0.1\")\n",
    "Hotel_final=Hotel_final.drop(\"Unnamed: 0.1.1\")\n",
    "Hotel_final=Hotel_final.drop(\"_c0\")\n",
    "Hotel_final=Hotel_final.drop(\"stays_in_weekend_nights\")\n",
    "Hotel_final=Hotel_final.drop(\"reserved_room_type\")\n",
    "Hotel_final=Hotel_final.drop(\"assigned_room_type\")\n",
    "Hotel_final.printSchema()"
   ]
  },
  {
   "cell_type": "code",
   "execution_count": 9,
   "metadata": {},
   "outputs": [],
   "source": [
    "from pyspark.ml.linalg import Vectors\n",
    "from pyspark.ml.feature import VectorAssembler\n",
    "from pyspark.ml.feature import StringIndexer\n",
    "from pyspark.ml.feature import VectorIndexer\n",
    "from pyspark.ml.feature import OneHotEncoder\n",
    "from pyspark.ml import Pipeline\n",
    "assembler = VectorAssembler(\n",
    "    inputCols=[\"hotel\", \"arrival_date_year\",\"meal\",\"market_segment\",\"distribution_channel\",\"deposit_type\",\"customer_type\",\"room_change\",\"have_adults\",\"have_children\",\"have_babies\",\"changes\",\"have_parking\"],\n",
    "    outputCol=\"features\")"
   ]
  },
  {
   "cell_type": "code",
   "execution_count": 10,
   "metadata": {},
   "outputs": [
    {
     "name": "stdout",
     "output_type": "stream",
     "text": [
      "root\n",
      " |-- hotel: integer (nullable = true)\n",
      " |-- arrival_date_year: integer (nullable = true)\n",
      " |-- meal: integer (nullable = true)\n",
      " |-- market_segment: integer (nullable = true)\n",
      " |-- distribution_channel: integer (nullable = true)\n",
      " |-- deposit_type: integer (nullable = true)\n",
      " |-- customer_type: integer (nullable = true)\n",
      " |-- room_change: integer (nullable = true)\n",
      " |-- have_requests: integer (nullable = true)\n",
      " |-- have_adults: integer (nullable = true)\n",
      " |-- have_children: integer (nullable = true)\n",
      " |-- have_babies: integer (nullable = true)\n",
      " |-- changes: integer (nullable = true)\n",
      " |-- have_parking: integer (nullable = true)\n",
      " |-- features: vector (nullable = true)\n",
      "\n"
     ]
    }
   ],
   "source": [
    "output = assembler.transform(Hotel_final)\n",
    "output.printSchema()"
   ]
  },
  {
   "cell_type": "code",
   "execution_count": 11,
   "metadata": {},
   "outputs": [],
   "source": [
    "final_data=output.select(\"features\",'have_requests')"
   ]
  },
  {
   "cell_type": "code",
   "execution_count": 12,
   "metadata": {},
   "outputs": [],
   "source": [
    "train_data,test_data = final_data.randomSplit([0.7,0.3])"
   ]
  },
  {
   "cell_type": "code",
   "execution_count": 13,
   "metadata": {},
   "outputs": [],
   "source": [
    "from pyspark.ml.classification import DecisionTreeClassifier,GBTClassifier,RandomForestClassifier\n",
    "from pyspark.ml import Pipeline"
   ]
  },
  {
   "cell_type": "code",
   "execution_count": 46,
   "metadata": {},
   "outputs": [],
   "source": [
    "dtc = DecisionTreeClassifier(labelCol='have_requests',featuresCol='features')\n",
    "rfc = RandomForestClassifier(labelCol='have_requests',featuresCol='features',numTrees=10,maxDepth=3)\n",
    "gbt = GBTClassifier(labelCol='have_requests',featuresCol='features')"
   ]
  },
  {
   "cell_type": "code",
   "execution_count": 47,
   "metadata": {},
   "outputs": [],
   "source": [
    "dtc_model = dtc.fit(train_data)\n",
    "rfc_model = rfc.fit(train_data)\n",
    "gbt_model = gbt.fit(train_data)"
   ]
  },
  {
   "cell_type": "code",
   "execution_count": 48,
   "metadata": {},
   "outputs": [],
   "source": [
    "dtc_predictions = dtc_model.transform(test_data)\n",
    "rfc_predictions = rfc_model.transform(test_data)\n",
    "gbt_predictions = gbt_model.transform(test_data)"
   ]
  },
  {
   "cell_type": "code",
   "execution_count": 49,
   "metadata": {},
   "outputs": [],
   "source": [
    "from pyspark.ml.evaluation import BinaryClassificationEvaluator\n"
   ]
  },
  {
   "cell_type": "code",
   "execution_count": 50,
   "metadata": {},
   "outputs": [],
   "source": [
    "my_binary_eval = BinaryClassificationEvaluator(labelCol = 'have_requests')"
   ]
  },
  {
   "cell_type": "code",
   "execution_count": 51,
   "metadata": {},
   "outputs": [
    {
     "name": "stdout",
     "output_type": "stream",
     "text": [
      "DTC\n",
      "0.6675304753484651\n"
     ]
    }
   ],
   "source": [
    "print(\"DTC\")\n",
    "print(my_binary_eval.evaluate(dtc_predictions))"
   ]
  },
  {
   "cell_type": "code",
   "execution_count": 52,
   "metadata": {},
   "outputs": [
    {
     "name": "stdout",
     "output_type": "stream",
     "text": [
      "RFC\n",
      "0.7462256138004867\n"
     ]
    }
   ],
   "source": [
    "print(\"RFC\")\n",
    "print(my_binary_eval.evaluate(rfc_predictions))"
   ]
  },
  {
   "cell_type": "code",
   "execution_count": 53,
   "metadata": {},
   "outputs": [
    {
     "name": "stdout",
     "output_type": "stream",
     "text": [
      "GBT\n",
      "0.7226231439652905\n"
     ]
    }
   ],
   "source": [
    "my_binary_gbt_eval = BinaryClassificationEvaluator(labelCol='have_requests', rawPredictionCol='prediction')\n",
    "print(\"GBT\")\n",
    "print(my_binary_gbt_eval.evaluate(gbt_predictions))"
   ]
  },
  {
   "cell_type": "code",
   "execution_count": 54,
   "metadata": {},
   "outputs": [],
   "source": [
    "from pyspark.ml.evaluation import MulticlassClassificationEvaluator"
   ]
  },
  {
   "cell_type": "code",
   "execution_count": 55,
   "metadata": {},
   "outputs": [],
   "source": [
    "acc_evaluator = MulticlassClassificationEvaluator(labelCol=\"have_requests\", predictionCol=\"prediction\", metricName=\"accuracy\")"
   ]
  },
  {
   "cell_type": "code",
   "execution_count": 56,
   "metadata": {},
   "outputs": [],
   "source": [
    "dtc_acc = acc_evaluator.evaluate(dtc_predictions)\n",
    "rfc_acc = acc_evaluator.evaluate(rfc_predictions)\n",
    "gbt_acc = acc_evaluator.evaluate(gbt_predictions)"
   ]
  },
  {
   "cell_type": "code",
   "execution_count": 57,
   "metadata": {},
   "outputs": [
    {
     "name": "stdout",
     "output_type": "stream",
     "text": [
      "Here are the results!\n",
      "----------------------------------------\n",
      "A single decision tree has an accuracy of: 71.89%\n",
      "----------------------------------------\n",
      "A random forest ensemble has an accuracy of: 71.41%\n",
      "----------------------------------------\n",
      "An ensemble using GBT has an accuracy of: 72.27%\n"
     ]
    }
   ],
   "source": [
    "print(\"Here are the results!\")\n",
    "print('-'*40)\n",
    "print('A single decision tree has an accuracy of: {0:2.2f}%'.format(dtc_acc*100))\n",
    "print('-'*40)\n",
    "print('A random forest ensemble has an accuracy of: {0:2.2f}%'.format(rfc_acc*100))\n",
    "print('-'*40)\n",
    "print('An ensemble using GBT has an accuracy of: {0:2.2f}%'.format(gbt_acc*100))"
   ]
  },
  {
   "cell_type": "code",
   "execution_count": 58,
   "metadata": {},
   "outputs": [],
   "source": [
    "random_forest_model=rfc.fit(train_data)\n",
    "random_forest_predictions=random_forest_model.transform(test_data)"
   ]
  },
  {
   "cell_type": "code",
   "execution_count": 59,
   "metadata": {},
   "outputs": [
    {
     "name": "stdout",
     "output_type": "stream",
     "text": [
      "RandomForestClassificationModel (uid=rfc_a74bb6967fc9) with 10 trees\n",
      "  Tree 0 (weight 1.0):\n",
      "    If (feature 3 <= 1.0)\n",
      "     If (feature 6 <= 2.0)\n",
      "      If (feature 9 <= 0.0)\n",
      "       Predict: 1.0\n",
      "      Else (feature 9 > 0.0)\n",
      "       Predict: 1.0\n",
      "     Else (feature 6 > 2.0)\n",
      "      If (feature 1 <= 2016.0)\n",
      "       Predict: 1.0\n",
      "      Else (feature 1 > 2016.0)\n",
      "       Predict: 1.0\n",
      "    Else (feature 3 > 1.0)\n",
      "     If (feature 12 <= 0.0)\n",
      "      If (feature 1 <= 2015.0)\n",
      "       Predict: 0.0\n",
      "      Else (feature 1 > 2015.0)\n",
      "       Predict: 0.0\n",
      "     Else (feature 12 > 0.0)\n",
      "      If (feature 9 <= 0.0)\n",
      "       Predict: 0.0\n",
      "      Else (feature 9 > 0.0)\n",
      "       Predict: 1.0\n",
      "  Tree 1 (weight 1.0):\n",
      "    If (feature 6 <= 3.0)\n",
      "     If (feature 4 <= 1.0)\n",
      "      If (feature 9 <= 0.0)\n",
      "       Predict: 1.0\n",
      "      Else (feature 9 > 0.0)\n",
      "       Predict: 1.0\n",
      "     Else (feature 4 > 1.0)\n",
      "      If (feature 1 <= 2016.0)\n",
      "       Predict: 0.0\n",
      "      Else (feature 1 > 2016.0)\n",
      "       Predict: 0.0\n",
      "    Else (feature 6 > 3.0)\n",
      "     If (feature 1 <= 2015.0)\n",
      "      If (feature 12 <= 0.0)\n",
      "       Predict: 0.0\n",
      "      Else (feature 12 > 0.0)\n",
      "       Predict: 0.0\n",
      "     Else (feature 1 > 2015.0)\n",
      "      If (feature 4 <= 1.0)\n",
      "       Predict: 0.0\n",
      "      Else (feature 4 > 1.0)\n",
      "       Predict: 0.0\n",
      "  Tree 2 (weight 1.0):\n",
      "    If (feature 6 <= 3.0)\n",
      "     If (feature 9 <= 0.0)\n",
      "      If (feature 0 <= 0.0)\n",
      "       Predict: 1.0\n",
      "      Else (feature 0 > 0.0)\n",
      "       Predict: 1.0\n",
      "     Else (feature 9 > 0.0)\n",
      "      If (feature 4 <= 1.0)\n",
      "       Predict: 1.0\n",
      "      Else (feature 4 > 1.0)\n",
      "       Predict: 1.0\n",
      "    Else (feature 6 > 3.0)\n",
      "     If (feature 4 <= 2.0)\n",
      "      If (feature 3 <= 1.0)\n",
      "       Predict: 1.0\n",
      "      Else (feature 3 > 1.0)\n",
      "       Predict: 0.0\n",
      "     Else (feature 4 > 2.0)\n",
      "      If (feature 10 <= 0.0)\n",
      "       Predict: 0.0\n",
      "      Else (feature 10 > 0.0)\n",
      "       Predict: 0.0\n",
      "  Tree 3 (weight 1.0):\n",
      "    If (feature 3 <= 1.0)\n",
      "     If (feature 10 <= 0.0)\n",
      "      If (feature 4 <= 3.0)\n",
      "       Predict: 1.0\n",
      "      Else (feature 4 > 3.0)\n",
      "       Predict: 0.0\n",
      "     Else (feature 10 > 0.0)\n",
      "      If (feature 1 <= 2016.0)\n",
      "       Predict: 1.0\n",
      "      Else (feature 1 > 2016.0)\n",
      "       Predict: 1.0\n",
      "    Else (feature 3 > 1.0)\n",
      "     If (feature 3 <= 3.0)\n",
      "      If (feature 11 <= 0.0)\n",
      "       Predict: 0.0\n",
      "      Else (feature 11 > 0.0)\n",
      "       Predict: 0.0\n",
      "     Else (feature 3 > 3.0)\n",
      "      If (feature 4 <= 2.0)\n",
      "       Predict: 0.0\n",
      "      Else (feature 4 > 2.0)\n",
      "       Predict: 0.0\n",
      "  Tree 4 (weight 1.0):\n",
      "    If (feature 4 <= 1.0)\n",
      "     If (feature 6 <= 3.0)\n",
      "      If (feature 0 <= 0.0)\n",
      "       Predict: 1.0\n",
      "      Else (feature 0 > 0.0)\n",
      "       Predict: 1.0\n",
      "     Else (feature 6 > 3.0)\n",
      "      If (feature 11 <= 0.0)\n",
      "       Predict: 0.0\n",
      "      Else (feature 11 > 0.0)\n",
      "       Predict: 0.0\n",
      "    Else (feature 4 > 1.0)\n",
      "     If (feature 6 <= 3.0)\n",
      "      If (feature 9 <= 0.0)\n",
      "       Predict: 0.0\n",
      "      Else (feature 9 > 0.0)\n",
      "       Predict: 1.0\n",
      "     Else (feature 6 > 3.0)\n",
      "      If (feature 9 <= 0.0)\n",
      "       Predict: 0.0\n",
      "      Else (feature 9 > 0.0)\n",
      "       Predict: 1.0\n",
      "  Tree 5 (weight 1.0):\n",
      "    If (feature 9 <= 0.0)\n",
      "     If (feature 3 <= 1.0)\n",
      "      If (feature 10 <= 0.0)\n",
      "       Predict: 1.0\n",
      "      Else (feature 10 > 0.0)\n",
      "       Predict: 1.0\n",
      "     Else (feature 3 > 1.0)\n",
      "      If (feature 1 <= 2016.0)\n",
      "       Predict: 0.0\n",
      "      Else (feature 1 > 2016.0)\n",
      "       Predict: 0.0\n",
      "    Else (feature 9 > 0.0)\n",
      "     If (feature 3 <= 1.0)\n",
      "      If (feature 7 <= 0.0)\n",
      "       Predict: 1.0\n",
      "      Else (feature 7 > 0.0)\n",
      "       Predict: 1.0\n",
      "     Else (feature 3 > 1.0)\n",
      "      If (feature 4 <= 2.0)\n",
      "       Predict: 1.0\n",
      "      Else (feature 4 > 2.0)\n",
      "       Predict: 0.0\n",
      "  Tree 6 (weight 1.0):\n",
      "    If (feature 1 <= 2015.0)\n",
      "     If (feature 3 <= 1.0)\n",
      "      If (feature 6 <= 1.0)\n",
      "       Predict: 1.0\n",
      "      Else (feature 6 > 1.0)\n",
      "       Predict: 1.0\n",
      "     Else (feature 3 > 1.0)\n",
      "      If (feature 2 <= 2.0)\n",
      "       Predict: 0.0\n",
      "      Else (feature 2 > 2.0)\n",
      "       Predict: 0.0\n",
      "    Else (feature 1 > 2015.0)\n",
      "     If (feature 9 <= 0.0)\n",
      "      If (feature 3 <= 1.0)\n",
      "       Predict: 1.0\n",
      "      Else (feature 3 > 1.0)\n",
      "       Predict: 0.0\n",
      "     Else (feature 9 > 0.0)\n",
      "      If (feature 0 <= 0.0)\n",
      "       Predict: 1.0\n",
      "      Else (feature 0 > 0.0)\n",
      "       Predict: 1.0\n",
      "  Tree 7 (weight 1.0):\n",
      "    If (feature 6 <= 3.0)\n",
      "     If (feature 3 <= 1.0)\n",
      "      If (feature 4 <= 1.0)\n",
      "       Predict: 1.0\n",
      "      Else (feature 4 > 1.0)\n",
      "       Predict: 0.0\n",
      "     Else (feature 3 > 1.0)\n",
      "      If (feature 10 <= 0.0)\n",
      "       Predict: 0.0\n",
      "      Else (feature 10 > 0.0)\n",
      "       Predict: 1.0\n",
      "    Else (feature 6 > 3.0)\n",
      "     If (feature 4 <= 2.0)\n",
      "      If (feature 1 <= 2015.0)\n",
      "       Predict: 0.0\n",
      "      Else (feature 1 > 2015.0)\n",
      "       Predict: 0.0\n",
      "     Else (feature 4 > 2.0)\n",
      "      If (feature 5 <= 2.0)\n",
      "       Predict: 0.0\n",
      "      Else (feature 5 > 2.0)\n",
      "       Predict: 1.0\n",
      "  Tree 8 (weight 1.0):\n",
      "    If (feature 7 <= 0.0)\n",
      "     If (feature 9 <= 0.0)\n",
      "      If (feature 12 <= 0.0)\n",
      "       Predict: 0.0\n",
      "      Else (feature 12 > 0.0)\n",
      "       Predict: 1.0\n",
      "     Else (feature 9 > 0.0)\n",
      "      If (feature 3 <= 1.0)\n",
      "       Predict: 1.0\n",
      "      Else (feature 3 > 1.0)\n",
      "       Predict: 1.0\n",
      "    Else (feature 7 > 0.0)\n",
      "     If (feature 4 <= 1.0)\n",
      "      If (feature 1 <= 2015.0)\n",
      "       Predict: 0.0\n",
      "      Else (feature 1 > 2015.0)\n",
      "       Predict: 1.0\n",
      "     Else (feature 4 > 1.0)\n",
      "      If (feature 4 <= 2.0)\n",
      "       Predict: 0.0\n",
      "      Else (feature 4 > 2.0)\n",
      "       Predict: 0.0\n",
      "  Tree 9 (weight 1.0):\n",
      "    If (feature 4 <= 1.0)\n",
      "     If (feature 3 <= 1.0)\n",
      "      If (feature 0 <= 0.0)\n",
      "       Predict: 1.0\n",
      "      Else (feature 0 > 0.0)\n",
      "       Predict: 1.0\n",
      "     Else (feature 3 > 1.0)\n",
      "      If (feature 10 <= 0.0)\n",
      "       Predict: 0.0\n",
      "      Else (feature 10 > 0.0)\n",
      "       Predict: 1.0\n",
      "    Else (feature 4 > 1.0)\n",
      "     If (feature 4 <= 2.0)\n",
      "      If (feature 3 <= 3.0)\n",
      "       Predict: 0.0\n",
      "      Else (feature 3 > 3.0)\n",
      "       Predict: 0.0\n",
      "     Else (feature 4 > 2.0)\n",
      "      If (feature 3 <= 3.0)\n",
      "       Predict: 0.0\n",
      "      Else (feature 3 > 3.0)\n",
      "       Predict: 0.0\n",
      "\n"
     ]
    }
   ],
   "source": [
    "print(random_forest_model.toDebugString)"
   ]
  },
  {
   "cell_type": "code",
   "execution_count": 60,
   "metadata": {},
   "outputs": [],
   "source": [
    "from sklearn.metrics import classification_report, confusion_matrix"
   ]
  },
  {
   "cell_type": "code",
   "execution_count": 61,
   "metadata": {},
   "outputs": [
    {
     "name": "stdout",
     "output_type": "stream",
     "text": [
      "              precision    recall  f1-score   support\n",
      "\n",
      "           0       0.69      0.74      0.72     11010\n",
      "           1       0.74      0.69      0.71     11582\n",
      "\n",
      "    accuracy                           0.71     22592\n",
      "   macro avg       0.72      0.71      0.71     22592\n",
      "weighted avg       0.72      0.71      0.71     22592\n",
      "\n"
     ]
    }
   ],
   "source": [
    "y_true=rfc_predictions.select(['have_requests']).collect()\n",
    "y_pred=rfc_predictions.select(['prediction']).collect()\n",
    "print(classification_report(y_true,y_pred))"
   ]
  },
  {
   "cell_type": "code",
   "execution_count": null,
   "metadata": {},
   "outputs": [],
   "source": []
  }
 ],
 "metadata": {
  "kernelspec": {
   "display_name": "Python 3",
   "language": "python",
   "name": "python3"
  },
  "language_info": {
   "codemirror_mode": {
    "name": "ipython",
    "version": 3
   },
   "file_extension": ".py",
   "mimetype": "text/x-python",
   "name": "python",
   "nbconvert_exporter": "python",
   "pygments_lexer": "ipython3",
   "version": "3.5.2"
  }
 },
 "nbformat": 4,
 "nbformat_minor": 2
}
