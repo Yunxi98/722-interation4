{
 "cells": [
  {
   "cell_type": "code",
   "execution_count": 1,
   "metadata": {},
   "outputs": [],
   "source": [
    "#6.3.1 comparing models\n",
    "import  pandas as pd\n",
    "hotel1=pd.read_csv(\"./hotel_final.csv\")"
   ]
  },
  {
   "cell_type": "code",
   "execution_count": 2,
   "metadata": {},
   "outputs": [
    {
     "data": {
      "text/plain": [
       "Index(['hotel', 'arrival_date_year', 'stays_in_weekend_nights',\n",
       "       'stays_in_week_nights', 'adults', 'children', 'babies', 'meal',\n",
       "       'market_segment', 'distribution_channel', 'reserved_room_type',\n",
       "       'assigned_room_type', 'booking_changes', 'deposit_type',\n",
       "       'days_in_waiting_list', 'customer_type', 'required_car_parking_spaces',\n",
       "       'room_change', 'have_requests'],\n",
       "      dtype='object')"
      ]
     },
     "execution_count": 2,
     "metadata": {},
     "output_type": "execute_result"
    }
   ],
   "source": [
    "del hotel1['Unnamed: 0']\n",
    "del hotel1['Unnamed: 0.1']\n",
    "del hotel1['Unnamed: 0.1.1']\n",
    "hotel1.columns"
   ]
  },
  {
   "cell_type": "code",
   "execution_count": 3,
   "metadata": {},
   "outputs": [
    {
     "name": "stdout",
     "output_type": "stream",
     "text": [
      "Defaulting to user installation because normal site-packages is not writeable\n",
      "Requirement already satisfied: sklearn in ./.local/lib/python3.5/site-packages (0.0)\n",
      "Requirement already satisfied: scikit-learn in ./.local/lib/python3.5/site-packages (from sklearn) (0.22.2.post1)\n",
      "Requirement already satisfied: numpy>=1.11.0 in ./.local/lib/python3.5/site-packages (from scikit-learn->sklearn) (1.15.1)\n",
      "Requirement already satisfied: scipy>=0.17.0 in ./.local/lib/python3.5/site-packages (from scikit-learn->sklearn) (1.4.1)\n",
      "Requirement already satisfied: joblib>=0.11 in ./.local/lib/python3.5/site-packages (from scikit-learn->sklearn) (0.14.1)\n"
     ]
    }
   ],
   "source": [
    "###Train and Test Data\n",
    "### set X(inputs) and Y(target)\n",
    "!pip3 install sklearn\n",
    "X=hotel1.drop(\"have_requests\",axis=1)\n",
    "y=hotel1[\"have_requests\"]\n",
    "### set the train and test dataset\n",
    "from sklearn.model_selection import train_test_split\n",
    "X_train, X_test,y_train,y_test=train_test_split(X,y,test_size=0.3, random_state=1)\n",
    "\n"
   ]
  },
  {
   "cell_type": "code",
   "execution_count": 4,
   "metadata": {},
   "outputs": [
    {
     "name": "stderr",
     "output_type": "stream",
     "text": [
      "/home/ubuntu/.local/lib/python3.5/site-packages/sklearn/linear_model/_logistic.py:940: ConvergenceWarning: lbfgs failed to converge (status=1):\n",
      "STOP: TOTAL NO. of ITERATIONS REACHED LIMIT.\n",
      "\n",
      "Increase the number of iterations (max_iter) or scale the data as shown in:\n",
      "    https://scikit-learn.org/stable/modules/preprocessing.html\n",
      "Please also refer to the documentation for alternative solver options:\n",
      "    https://scikit-learn.org/stable/modules/linear_model.html#logistic-regression\n",
      "  extra_warning_msg=_LOGISTIC_SOLVER_CONVERGENCE_MSG)\n"
     ]
    }
   ],
   "source": [
    "### build the logistics model\n",
    "from sklearn.linear_model import LogisticRegression\n",
    "logmodel=LogisticRegression()\n",
    "logmodel.fit(X_train,y_train)\n",
    "predictions=logmodel.predict(X_test)"
   ]
  },
  {
   "cell_type": "code",
   "execution_count": 5,
   "metadata": {},
   "outputs": [
    {
     "name": "stdout",
     "output_type": "stream",
     "text": [
      "              precision    recall  f1-score   support\n",
      "\n",
      "           0       0.68      0.58      0.63     11015\n",
      "           1       0.65      0.73      0.69     11535\n",
      "\n",
      "    accuracy                           0.66     22550\n",
      "   macro avg       0.66      0.66      0.66     22550\n",
      "weighted avg       0.66      0.66      0.66     22550\n",
      "\n"
     ]
    }
   ],
   "source": [
    "### output the accuracy \n",
    "from sklearn.metrics import classification_report\n",
    "z=classification_report(y_test,predictions)\n",
    "from sklearn.metrics import confusion_matrix\n",
    "confusion_matrix(y_test,predictions)\n",
    "from sklearn.metrics import accuracy_score\n",
    "accuracy_score(y_test,predictions)\n",
    "print(z)"
   ]
  },
  {
   "cell_type": "code",
   "execution_count": 6,
   "metadata": {},
   "outputs": [],
   "source": [
    "### Train and test \n",
    "### Set X(input) and Y(target)\n",
    "inputs=hotel1.drop('have_requests',axis='columns')\n",
    "target=hotel1['have_requests']"
   ]
  },
  {
   "cell_type": "code",
   "execution_count": 7,
   "metadata": {},
   "outputs": [],
   "source": [
    "### Set the train and test dataset\n",
    "from sklearn.model_selection import train_test_split\n",
    "X_train, X_test,y_train,y_test=train_test_split(inputs,target,test_size=0.3, random_state=1)"
   ]
  },
  {
   "cell_type": "code",
   "execution_count": 9,
   "metadata": {},
   "outputs": [
    {
     "name": "stdout",
     "output_type": "stream",
     "text": [
      "[[8092 2923]\n",
      " [3685 7850]]\n",
      "              precision    recall  f1-score   support\n",
      "\n",
      "           0       0.69      0.73      0.71     11015\n",
      "           1       0.73      0.68      0.70     11535\n",
      "\n",
      "    accuracy                           0.71     22550\n",
      "   macro avg       0.71      0.71      0.71     22550\n",
      "weighted avg       0.71      0.71      0.71     22550\n",
      "\n",
      "0.7069623059866962\n",
      "[[8092 2923]\n",
      " [3685 7850]]\n",
      "              precision    recall  f1-score   support\n",
      "\n",
      "           0       0.69      0.73      0.71     11015\n",
      "           1       0.73      0.68      0.70     11535\n",
      "\n",
      "    accuracy                           0.71     22550\n",
      "   macro avg       0.71      0.71      0.71     22550\n",
      "weighted avg       0.71      0.71      0.71     22550\n",
      "\n",
      "0.7069623059866962\n",
      "[[8120 2895]\n",
      " [3688 7847]]\n",
      "              precision    recall  f1-score   support\n",
      "\n",
      "           0       0.69      0.74      0.71     11015\n",
      "           1       0.73      0.68      0.70     11535\n",
      "\n",
      "    accuracy                           0.71     22550\n",
      "   macro avg       0.71      0.71      0.71     22550\n",
      "weighted avg       0.71      0.71      0.71     22550\n",
      "\n",
      "0.7080709534368071\n",
      "[[8115 2900]\n",
      " [3680 7855]]\n",
      "              precision    recall  f1-score   support\n",
      "\n",
      "           0       0.69      0.74      0.71     11015\n",
      "           1       0.73      0.68      0.70     11535\n",
      "\n",
      "    accuracy                           0.71     22550\n",
      "   macro avg       0.71      0.71      0.71     22550\n",
      "weighted avg       0.71      0.71      0.71     22550\n",
      "\n",
      "0.7082039911308204\n"
     ]
    }
   ],
   "source": [
    "### Build the model by using decisiontree\n",
    "import numpy as np\n",
    "from sklearn import tree\n",
    "# List of values to try for max_depth:\n",
    "max_depth_range = list(range(1,5))\n",
    "accurate=[]\n",
    "for depth in max_depth_range:\n",
    "    model= tree.DecisionTreeClassifier(max_depth = depth,random_state=1)\n",
    "    Treemodel=model.fit(X_train,y_train)\n",
    "    Treeprediction=model.predict(X_test)\n",
    "    from sklearn.metrics import classification_report\n",
    "    q=classification_report(y_test,Treeprediction)\n",
    "    from sklearn.metrics import confusion_matrix\n",
    "    o=confusion_matrix(y_test,Treeprediction)\n",
    "    from sklearn.metrics import accuracy_score\n",
    "    f=accuracy_score(y_test,Treeprediction)\n",
    "    y_test_hat=model.predict(X_test)\n",
    "    res=y_test==y_test_hat\n",
    "    acc=np.mean(res)\n",
    "    accurate.append(acc)\n",
    "    print(o)\n",
    "    print(q)\n",
    "    print(f)\n"
   ]
  },
  {
   "cell_type": "code",
   "execution_count": null,
   "metadata": {},
   "outputs": [],
   "source": []
  }
 ],
 "metadata": {
  "kernelspec": {
   "display_name": "Python 3",
   "language": "python",
   "name": "python3"
  },
  "language_info": {
   "codemirror_mode": {
    "name": "ipython",
    "version": 3
   },
   "file_extension": ".py",
   "mimetype": "text/x-python",
   "name": "python",
   "nbconvert_exporter": "python",
   "pygments_lexer": "ipython3",
   "version": "3.5.2"
  }
 },
 "nbformat": 4,
 "nbformat_minor": 2
}
